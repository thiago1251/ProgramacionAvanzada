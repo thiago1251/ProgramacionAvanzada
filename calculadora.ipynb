def insert_one():
    entry.insert(tk.END, "1")

def insert_two():
    entry.insert(tk.END, "2")

def insert_three():
    entry.insert(tk.END, "3")

def insert_four():
    entry.insert(tk.END, "4")

def insert_five():
    entry.insert(tk.END, "5")

def insert_six():
    entry.insert(tk.END, "6")

def insert_seven():
    entry.insert(tk.END, "7")

def insert_eight():
    entry.insert(tk.END, "8")

def insert_nine():
    entry.insert(tk.END, "9")

def insert_zero():
    entry.insert(tk.END, "0")
